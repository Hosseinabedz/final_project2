{
 "cells": [
  {
   "cell_type": "markdown",
   "source": [
    "\n",
    "<span style=\"font-family:Comic Sans MS; color:white; font-size:30px\">Import required libraries</span>"
   ],
   "metadata": {
    "collapsed": false
   }
  },
  {
   "cell_type": "code",
   "execution_count": 3,
   "outputs": [],
   "source": [
    "import pandas as pd\n",
    "import nltk\n",
    "from sklearn.model_selection import  train_test_split\n",
    "from sklearn.linear_model import SGDClassifier\n",
    "from nltk.corpus import stopwords\n",
    "from sklearn.feature_extraction.text import CountVectorizer\n",
    "from sklearn.metrics import accuracy_score"
   ],
   "metadata": {
    "collapsed": false,
    "ExecuteTime": {
     "end_time": "2023-07-01T22:22:06.652400900Z",
     "start_time": "2023-07-01T22:22:06.626805800Z"
    }
   }
  },
  {
   "cell_type": "markdown",
   "source": [
    "<span style=\"font-family:Comic Sans MS; color:white; font-size:30px\">Read data</span>"
   ],
   "metadata": {
    "collapsed": false
   }
  },
  {
   "cell_type": "code",
   "execution_count": 4,
   "outputs": [],
   "source": [
    "df = pd.DataFrame(pd.read_csv('Amazon_DataSet.csv'))"
   ],
   "metadata": {
    "collapsed": false,
    "ExecuteTime": {
     "end_time": "2023-07-01T22:22:07.716977800Z",
     "start_time": "2023-07-01T22:22:07.664588500Z"
    }
   }
  },
  {
   "cell_type": "markdown",
   "source": [
    "# <span style=\"font-family:Comic Sans MS; color:white; font-size:30px\">Data preprocessing</span>"
   ],
   "metadata": {
    "collapsed": false
   }
  },
  {
   "cell_type": "markdown",
   "source": [
    "## <span style=\"font-family:Comic Sans MS; color:white; font-size:20px\">1. Change positive values to 1 and negative values to 0</span>"
   ],
   "metadata": {
    "collapsed": false
   }
  },
  {
   "cell_type": "code",
   "execution_count": 5,
   "outputs": [],
   "source": [
    "df['Sentiment'] = df['Sentiment'].map({'Positive': 1, 'Negative': 0})"
   ],
   "metadata": {
    "collapsed": false,
    "ExecuteTime": {
     "end_time": "2023-07-01T22:22:11.174474800Z",
     "start_time": "2023-07-01T22:22:11.165761600Z"
    }
   }
  },
  {
   "cell_type": "markdown",
   "source": [
    "## <span style=\"font-family:Comic Sans MS; color:white; font-size:20px\">2. Delete useless data</span>"
   ],
   "metadata": {
    "collapsed": false
   }
  },
  {
   "cell_type": "code",
   "execution_count": null,
   "outputs": [],
   "source": [
    "nltk.download('stopwords')\n",
    "stop_words = stopwords.words('english')\n",
    "df['reviewText'] = df['reviewText'].apply(lambda x: ' '.join([word for word in x.split() if word.lower() not in stop_words]))"
   ],
   "metadata": {
    "collapsed": false,
    "pycharm": {
     "is_executing": true
    }
   }
  },
  {
   "cell_type": "markdown",
   "source": [
    "## <span style=\"font-family:Comic Sans MS; color:white; font-size:20px\">3. Vectorize data</span>"
   ],
   "metadata": {
    "collapsed": false
   }
  },
  {
   "cell_type": "code",
   "execution_count": 7,
   "outputs": [],
   "source": [
    "text = df['reviewText']\n",
    "model = CountVectorizer(ngram_range= (1, 1))\n",
    "matrix = model.fit_transform(text).toarray()\n",
    "df_output = pd.DataFrame(data= matrix, columns=model.get_feature_names_out())"
   ],
   "metadata": {
    "collapsed": false,
    "ExecuteTime": {
     "end_time": "2023-07-01T22:22:18.174759100Z",
     "start_time": "2023-07-01T22:22:17.654678400Z"
    }
   }
  },
  {
   "cell_type": "markdown",
   "source": [
    "## <span style=\"font-family:Comic Sans MS; color:white; font-size:20px\">4. Divide data into the four parts and Take 20% of the data for test </span>"
   ],
   "metadata": {
    "collapsed": false
   }
  },
  {
   "cell_type": "code",
   "execution_count": 8,
   "outputs": [],
   "source": [
    "x_train, x_test, y_train, y_test = train_test_split(df_output, df['Sentiment'], test_size=0.2)"
   ],
   "metadata": {
    "collapsed": false,
    "ExecuteTime": {
     "end_time": "2023-07-01T22:22:21.550015200Z",
     "start_time": "2023-07-01T22:22:20.304833800Z"
    }
   }
  },
  {
   "cell_type": "markdown",
   "source": [
    "# <span style=\"font-family:Comic Sans MS; color:white; font-size:30px\">Create a model</span>"
   ],
   "metadata": {
    "collapsed": false
   }
  },
  {
   "cell_type": "code",
   "execution_count": 9,
   "outputs": [],
   "source": [
    "model = SGDClassifier(max_iter=500, alpha=10e-5)\n",
    "model.fit(x_train, y_train)\n",
    "y_results = model.predict(x_test)"
   ],
   "metadata": {
    "collapsed": false,
    "ExecuteTime": {
     "end_time": "2023-07-01T22:22:37.023774900Z",
     "start_time": "2023-07-01T22:22:22.313571900Z"
    }
   }
  },
  {
   "cell_type": "markdown",
   "source": [
    "# <span style=\"font-family:Comic Sans MS; color:white; font-size:30px\">Test the model</span>"
   ],
   "metadata": {
    "collapsed": false
   }
  },
  {
   "cell_type": "code",
   "execution_count": 12,
   "outputs": [
    {
     "name": "stdout",
     "output_type": "stream",
     "text": [
      "Model accuracy : 0.8955\n"
     ]
    }
   ],
   "source": [
    "print(f\"Model accuracy : {accuracy_score(y_test, y_results)}\")"
   ],
   "metadata": {
    "collapsed": false,
    "pycharm": {
     "is_executing": true
    },
    "ExecuteTime": {
     "end_time": "2023-07-01T22:27:20.280148Z",
     "start_time": "2023-07-01T22:27:20.276699300Z"
    }
   }
  }
 ],
 "metadata": {
  "kernelspec": {
   "display_name": "Python 3",
   "language": "python",
   "name": "python3"
  },
  "language_info": {
   "codemirror_mode": {
    "name": "ipython",
    "version": 2
   },
   "file_extension": ".py",
   "mimetype": "text/x-python",
   "name": "python",
   "nbconvert_exporter": "python",
   "pygments_lexer": "ipython2",
   "version": "2.7.6"
  }
 },
 "nbformat": 4,
 "nbformat_minor": 0
}
