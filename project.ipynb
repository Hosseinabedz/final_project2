{
 "cells": [
  {
   "cell_type": "markdown",
   "source": [
    "\n",
    "<span style=\"font-family:Comic Sans MS; color:white; font-size:30px\">Import required libraries</span>"
   ],
   "metadata": {
    "collapsed": false
   }
  },
  {
   "cell_type": "code",
   "execution_count": 183,
   "outputs": [],
   "source": [
    "import pandas as pd\n",
    "import nltk\n",
    "import matplotlib.pyplot as plt\n",
    "from sklearn.model_selection import  train_test_split\n",
    "from sklearn.linear_model import SGDClassifier\n",
    "from nltk.corpus import stopwords\n",
    "from sklearn.feature_extraction.text import CountVectorizer\n",
    "from sklearn.metrics import accuracy_score\n"
   ],
   "metadata": {
    "collapsed": false
   }
  },
  {
   "cell_type": "markdown",
   "source": [
    "<span style=\"font-family:Comic Sans MS; color:white; font-size:30px\">Reading data</span>"
   ],
   "metadata": {
    "collapsed": false
   }
  },
  {
   "cell_type": "code",
   "execution_count": 184,
   "outputs": [],
   "source": [
    "df = pd.DataFrame(pd.read_csv('Amazon_DataSet.csv'))"
   ],
   "metadata": {
    "collapsed": false
   }
  },
  {
   "cell_type": "markdown",
   "source": [
    "# <span style=\"font-family:Comic Sans MS; color:white; font-size:30px\">Data preprocessing</span>"
   ],
   "metadata": {
    "collapsed": false
   }
  },
  {
   "cell_type": "markdown",
   "source": [
    "## <span style=\"font-family:Comic Sans MS; color:white; font-size:20px\">1. Change positive values to 1 and negative values to 0</span>"
   ],
   "metadata": {
    "collapsed": false
   }
  },
  {
   "cell_type": "code",
   "execution_count": 185,
   "outputs": [],
   "source": [
    "df['Sentiment'] = df['Sentiment'].map({'Positive': 1, 'Negative': 0})"
   ],
   "metadata": {
    "collapsed": false
   }
  },
  {
   "cell_type": "markdown",
   "source": [
    "## <span style=\"font-family:Comic Sans MS; color:white; font-size:20px\">2. Delete useless data</span>"
   ],
   "metadata": {
    "collapsed": false
   }
  },
  {
   "cell_type": "code",
   "execution_count": null,
   "outputs": [],
   "source": [
    "nltk.download('stopwords')\n",
    "stop_words = stopwords.words('english')\n",
    "df['reviewText'] = df['reviewText'].apply(lambda x: ' '.join([word for word in x.split() if word.lower() not in stop_words]))"
   ],
   "metadata": {
    "collapsed": false,
    "pycharm": {
     "is_executing": true
    }
   }
  },
  {
   "cell_type": "markdown",
   "source": [
    "## <span style=\"font-family:Comic Sans MS; color:white; font-size:20px\">3. Vectorizing data</span>"
   ],
   "metadata": {
    "collapsed": false
   }
  },
  {
   "cell_type": "code",
   "execution_count": 187,
   "outputs": [],
   "source": [
    "text = df['reviewText']\n",
    "model = CountVectorizer(ngram_range= (1, 1))\n",
    "matrix = model.fit_transform(text).toarray()\n",
    "df_output = pd.DataFrame(data= matrix, columns=model.get_feature_names_out())"
   ],
   "metadata": {
    "collapsed": false
   }
  },
  {
   "cell_type": "markdown",
   "source": [
    "## <span style=\"font-family:Comic Sans MS; color:white; font-size:20px\">4. Dividing data into the four parts and Taking 20% of the data for testing </span>"
   ],
   "metadata": {
    "collapsed": false
   }
  },
  {
   "cell_type": "code",
   "execution_count": 188,
   "outputs": [],
   "source": [
    "x_train, x_test, y_train, y_test = train_test_split(df_output, df['Sentiment'], test_size=0.2)"
   ],
   "metadata": {
    "collapsed": false
   }
  },
  {
   "cell_type": "markdown",
   "source": [
    "# <span style=\"font-family:Comic Sans MS; color:white; font-size:30px\">Creating a model</span>"
   ],
   "metadata": {
    "collapsed": false
   }
  },
  {
   "cell_type": "code",
   "execution_count": 189,
   "outputs": [],
   "source": [
    "model = SGDClassifier(max_iter=500, alpha=10e-5)\n",
    "model.fit(x_train, y_train)\n",
    "y_results = model.predict(x_test)"
   ],
   "metadata": {
    "collapsed": false
   }
  },
  {
   "cell_type": "markdown",
   "source": [
    "# <span style=\"font-family:Comic Sans MS; color:white; font-size:30px\">Testing the model</span>"
   ],
   "metadata": {
    "collapsed": false
   }
  },
  {
   "cell_type": "code",
   "execution_count": null,
   "outputs": [],
   "source": [
    "print(f\"Model accuracy : {accuracy_score(y_test, y_results)}\")"
   ],
   "metadata": {
    "collapsed": false,
    "pycharm": {
     "is_executing": true
    }
   }
  }
 ],
 "metadata": {
  "kernelspec": {
   "display_name": "Python 3",
   "language": "python",
   "name": "python3"
  },
  "language_info": {
   "codemirror_mode": {
    "name": "ipython",
    "version": 2
   },
   "file_extension": ".py",
   "mimetype": "text/x-python",
   "name": "python",
   "nbconvert_exporter": "python",
   "pygments_lexer": "ipython2",
   "version": "2.7.6"
  }
 },
 "nbformat": 4,
 "nbformat_minor": 0
}
